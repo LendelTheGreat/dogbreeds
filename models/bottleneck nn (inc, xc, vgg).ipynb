{
 "cells": [
  {
   "cell_type": "code",
   "execution_count": 41,
   "metadata": {},
   "outputs": [],
   "source": [
    "%matplotlib inline\n",
    "import numpy as np\n",
    "import pandas as pd\n",
    "import matplotlib.pyplot as plt\n",
    "\n",
    "import _pickle as pickle\n",
    "from os import listdir\n",
    "from os.path import join, isfile\n",
    "\n",
    "import tensorflow as tf\n",
    "config = tf.ConfigProto()\n",
    "config.gpu_options.allow_growth = True\n",
    "session = tf.Session(config=config)\n",
    "from keras import backend as K\n",
    "K.set_session(session)\n",
    "\n",
    "from keras.utils import to_categorical\n",
    "from keras.callbacks import EarlyStopping\n",
    "from keras.models import Sequential\n",
    "from keras.layers import Activation, Dropout, Flatten, Dense"
   ]
  },
  {
   "cell_type": "code",
   "execution_count": 2,
   "metadata": {},
   "outputs": [
    {
     "name": "stdout",
     "output_type": "stream",
     "text": [
      "Train: 10225 = 10222 = 2037 + 8185\n",
      "Test: 10360 = 10357\n",
      "We should have 120 clasess and the train data has 120 classes.\n",
      "y_tr shape: (8185, 120)\n",
      "y_val shape: (2037, 120)\n"
     ]
    }
   ],
   "source": [
    "# Load labels and split to train/val\n",
    "NUM_CLASSES = 120\n",
    "SEED = 2914\n",
    "np.random.seed(seed=SEED)\n",
    "data_dir = '../data'\n",
    "labels = pd.read_csv(join(data_dir, 'labels.csv'))\n",
    "l_val = labels.groupby('breed').apply(pd.DataFrame.sample, frac=0.2).reset_index(drop=True)\n",
    "l_tr = labels.loc[~labels['id'].isin(l_val['id'])]\n",
    "sample_submission = pd.read_csv(join(data_dir, 'sample_submission.csv'))\n",
    "print('Train:', len(listdir(join(data_dir, 'train'))), '=', len(l_tr)+len(l_val), '=', len(l_val), '+', len(l_tr))\n",
    "print('Test:', len(listdir(join(data_dir, 'test'))), '=', len(sample_submission))\n",
    "\n",
    "print(\"We should have {} clasess and the train data has {} classes.\"\n",
    "      .format(NUM_CLASSES, len(l_tr.groupby('breed').count())))\n",
    "\n",
    "l_tr_index = {label:i for i,label in enumerate(np.sort(np.unique(l_tr.breed)))}\n",
    "l_tr_temp = [l_tr_index[label] for label in l_tr.breed]\n",
    "l_val_temp = [l_tr_index[label] for label in l_val.breed]\n",
    "y_tr = to_categorical(l_tr_temp ,num_classes=120)\n",
    "y_val = to_categorical(l_val_temp ,num_classes=120)\n",
    "\n",
    "print('y_tr shape: {}'.format(y_tr.shape))\n",
    "print('y_val shape: {}'.format(y_val.shape))"
   ]
  },
  {
   "cell_type": "code",
   "execution_count": 3,
   "metadata": {},
   "outputs": [
    {
     "name": "stdout",
     "output_type": "stream",
     "text": [
      "Loading from ../data//train//xs_bf_inception_v3\n",
      "xs_bf_inception shape: (10222, 2049) size: 20,944,878\n",
      "Loading from ../data//train//xs_bf_xception\n",
      "xs_bf_xception shape: (10222, 2049) size: 20,944,878\n",
      "Loading from ../data//train//xs_bf_vgg16\n",
      "xs_bf_vgg16 shape: (10222, 513) size: 5,243,886\n",
      "Concatenated features xs_bf shape: (10222, 4609) size: 47,113,198\n"
     ]
    }
   ],
   "source": [
    "filename = data_dir + '//train//xs_bf_inception_v3'\n",
    "print('Loading from {}'.format(filename))\n",
    "with open(filename, 'rb') as fp:\n",
    "    xs_bf_inception = pickle.load(fp)\n",
    "print('xs_bf_inception shape: {} size: {:,}'.format(xs_bf_inception.shape, xs_bf_inception.size))\n",
    "\n",
    "filename = data_dir + '//train//xs_bf_xception'\n",
    "print('Loading from {}'.format(filename))\n",
    "with open(filename, 'rb') as fp:\n",
    "    xs_bf_xception = pickle.load(fp)\n",
    "print('xs_bf_xception shape: {} size: {:,}'.format(xs_bf_xception.shape, xs_bf_xception.size))\n",
    "\n",
    "filename = data_dir + '//train//xs_bf_vgg16'\n",
    "print('Loading from {}'.format(filename))\n",
    "with open(filename, 'rb') as fp:\n",
    "    xs_bf_vgg16 = pickle.load(fp)\n",
    "print('xs_bf_vgg16 shape: {} size: {:,}'.format(xs_bf_vgg16.shape, xs_bf_vgg16.size))\n",
    "\n",
    "xs_bf = pd.DataFrame(data=np.concatenate((xs_bf_inception.as_matrix(columns=xs_bf_inception.columns[0:]), xs_bf_xception.as_matrix(columns=xs_bf_xception.columns[1:]), xs_bf_vgg16.as_matrix(columns=xs_bf_vgg16.columns[1:])), axis=1), columns=['id']+list(range(4608)))\n",
    "print('Concatenated features xs_bf shape: {} size: {:,}'.format(xs_bf.shape, xs_bf.size))"
   ]
  },
  {
   "cell_type": "code",
   "execution_count": 4,
   "metadata": {},
   "outputs": [
    {
     "name": "stdout",
     "output_type": "stream",
     "text": [
      "Train bottleneck features shape: (8185, 4608) size: 37,716,480\n",
      "Validation bottleneck features shape: (2037, 4608) size: 9,386,496\n"
     ]
    }
   ],
   "source": [
    "# Split to train/val sets\n",
    "x_tr = np.zeros((len(l_tr), xs_bf.shape[1]-1), dtype='float32')\n",
    "for i, img_id in enumerate(l_tr['id']):\n",
    "    x_tr[i] = xs_bf[xs_bf.id == img_id].values[0][1:]\n",
    "print('Train bottleneck features shape: {} size: {:,}'.format(x_tr.shape, x_tr.size))\n",
    "\n",
    "x_val = np.zeros((len(l_val), xs_bf.shape[1]-1), dtype='float32')\n",
    "for i, img_id in enumerate(l_val['id']):\n",
    "    x_val[i] = xs_bf[xs_bf.id == img_id].values[0][1:]\n",
    "print('Validation bottleneck features shape: {} size: {:,}'.format(x_val.shape, x_val.size))"
   ]
  },
  {
   "cell_type": "code",
   "execution_count": 51,
   "metadata": {},
   "outputs": [],
   "source": [
    "# Setup model\n",
    "model = Sequential()\n",
    "\n",
    "model.add(Dense(100, input_shape=(4608,)))\n",
    "model.add(Activation('relu'))\n",
    "model.add(Dropout(0.3))\n",
    "          \n",
    "model.add(Dense(100))\n",
    "model.add(Activation('relu'))\n",
    "model.add(Dropout(0.3))\n",
    "    \n",
    "model.add(Dense(120, activation='softmax'))\n",
    "\n",
    "model.compile(loss='categorical_crossentropy',\n",
    "              optimizer='rmsprop',\n",
    "              metrics=['accuracy'])\n",
    "\n",
    "# best so far, loss=0.44, layers=100, 100, 120, dropouts=0.3, 0.3"
   ]
  },
  {
   "cell_type": "code",
   "execution_count": 53,
   "metadata": {
    "scrolled": true
   },
   "outputs": [
    {
     "name": "stdout",
     "output_type": "stream",
     "text": [
      "Train on 8185 samples, validate on 2037 samples\n",
      "Epoch 1/15\n",
      "8185/8185 [==============================] - 2s - loss: 0.9424 - acc: 0.7111 - val_loss: 0.4723 - val_acc: 0.8522\n",
      "Epoch 2/15\n",
      "8185/8185 [==============================] - 2s - loss: 0.8570 - acc: 0.7278 - val_loss: 0.4426 - val_acc: 0.8571\n",
      "Epoch 3/15\n",
      "8185/8185 [==============================] - 2s - loss: 0.8204 - acc: 0.7448 - val_loss: 0.4369 - val_acc: 0.8591\n",
      "Epoch 4/15\n",
      "8185/8185 [==============================] - 2s - loss: 0.7932 - acc: 0.7515 - val_loss: 0.4533 - val_acc: 0.8488\n",
      "1888/2037 [==========================>...] - ETA: 0sTest loss: 0.453285573743\n",
      "Test accuracy: 0.848797251005\n"
     ]
    },
    {
     "data": {
      "image/png": "[encoded data removed]",
      "text/plain": [
       "<matplotlib.figure.Figure at 0x1663a6a9940>"
      ]
     },
     "metadata": {},
     "output_type": "display_data"
    },
    {
     "data": {
      "image/png": "[encoded data removed]",
      "text/plain": [
       "<matplotlib.figure.Figure at 0x1663a6a9978>"
      ]
     },
     "metadata": {},
     "output_type": "display_data"
    }
   ],
   "source": [
    "# Train\n",
    "history = model.fit(x_tr, y_tr,\n",
    "              batch_size=64,\n",
    "              epochs=15,\n",
    "              verbose=1,\n",
    "              validation_data=(x_val, y_val),\n",
    "              shuffle=True,\n",
    "              callbacks=[EarlyStopping(monitor='val_loss')])\n",
    "\n",
    "scores = model.evaluate(x_val, y_val, verbose=1)\n",
    "print('Test loss:', scores[0])\n",
    "print('Test accuracy:', scores[1])\n",
    "\n",
    "# summarize history for accuracy\n",
    "plt.plot(history.history['acc'])\n",
    "plt.plot(history.history['val_acc'])\n",
    "plt.title('model accuracy')\n",
    "plt.ylabel('accuracy')\n",
    "plt.xlabel('epoch')\n",
    "plt.legend(['train', 'test'], loc='upper left')\n",
    "plt.show()\n",
    "# summarize history for loss\n",
    "plt.plot(history.history['loss'])\n",
    "plt.plot(history.history['val_loss'])\n",
    "plt.title('model loss')\n",
    "plt.ylabel('loss')\n",
    "plt.xlabel('epoch')\n",
    "plt.legend(['train', 'test'], loc='upper left')\n",
    "plt.show()"
   ]
  },
  {
   "cell_type": "code",
   "execution_count": 8,
   "metadata": {},
   "outputs": [
    {
     "name": "stdout",
     "output_type": "stream",
     "text": [
      "Loading from ../data//test//xs_bf_inception\n",
      "xs_bf_inception shape: (10357, 2049) size: 21,221,493\n",
      "Loading from ../data//test//xs_bf_xception\n",
      "xs_bf_xception shape: (10357, 2049) size: 21,221,493\n",
      "Loading from ../data//test//xs_bf_vgg16\n",
      "xs_bf_vgg16 shape: (10357, 513) size: 5,313,141\n",
      "Concatenated features xs_bf shape: (10357, 4609) size: 47,735,413\n"
     ]
    }
   ],
   "source": [
    "# Load test set data\n",
    "filename = data_dir + '//test//xs_bf_inception'\n",
    "print('Loading from {}'.format(filename))\n",
    "with open(filename, 'rb') as fp:\n",
    "    xs_bf_inception = pickle.load(fp)\n",
    "print('xs_bf_inception shape: {} size: {:,}'.format(xs_bf_inception.shape, xs_bf_inception.size))\n",
    "\n",
    "filename = data_dir + '//test//xs_bf_xception'\n",
    "print('Loading from {}'.format(filename))\n",
    "with open(filename, 'rb') as fp:\n",
    "    xs_bf_xception = pickle.load(fp)\n",
    "print('xs_bf_xception shape: {} size: {:,}'.format(xs_bf_xception.shape, xs_bf_xception.size))\n",
    "\n",
    "filename = data_dir + '//test//xs_bf_vgg16'\n",
    "print('Loading from {}'.format(filename))\n",
    "with open(filename, 'rb') as fp:\n",
    "    xs_bf_vgg16 = pickle.load(fp)\n",
    "print('xs_bf_vgg16 shape: {} size: {:,}'.format(xs_bf_vgg16.shape, xs_bf_vgg16.size))\n",
    "\n",
    "xs_test_bf = pd.DataFrame(data=np.concatenate((xs_bf_inception.as_matrix(columns=xs_bf_inception.columns[0:]), xs_bf_xception.as_matrix(columns=xs_bf_xception.columns[1:]), xs_bf_vgg16.as_matrix(columns=xs_bf_vgg16.columns[1:])), axis=1), columns=['id']+list(range(4608)))\n",
    "print('Concatenated features xs_bf shape: {} size: {:,}'.format(xs_test_bf.shape, xs_test_bf.size))"
   ]
  },
  {
   "cell_type": "code",
   "execution_count": 54,
   "metadata": {},
   "outputs": [
    {
     "name": "stdout",
     "output_type": "stream",
     "text": [
      "10357/10357 [==============================] - 8s     \n",
      "Predicted ys_test shape: (10357, 120) size: 1,242,840\n"
     ]
    }
   ],
   "source": [
    "# Predict\n",
    "ys_test = model.predict(xs_test_bf.as_matrix(columns=xs_test_bf.columns[1:]), batch_size=200, verbose=1)\n",
    "print('Predicted ys_test shape: {} size: {:,}'.format(ys_test.shape, ys_test.size))"
   ]
  },
  {
   "cell_type": "code",
   "execution_count": 55,
   "metadata": {},
   "outputs": [],
   "source": [
    "# Save submission\n",
    "for i, breed in enumerate(sample_submission.columns[1:]):\n",
    "    sample_submission[breed] = ys_test[:, l_tr_index[breed]]\n",
    "    \n",
    "sample_submission.to_csv('..//submissions//sub_bottleneck_nn_inc_xc_vgg.csv', index=None)"
   ]
  },
  {
   "cell_type": "code",
   "execution_count": null,
   "metadata": {},
   "outputs": [],
   "source": []
  }
 ],
 "metadata": {
  "kernelspec": {
   "display_name": "Python 3",
   "language": "python",
   "name": "python3"
  },
  "language_info": {
   "codemirror_mode": {
    "name": "ipython",
    "version": 3
   },
   "file_extension": ".py",
   "mimetype": "text/x-python",
   "name": "python",
   "nbconvert_exporter": "python",
   "pygments_lexer": "ipython3",
   "version": "3.5.4"
  }
 },
 "nbformat": 4,
 "nbformat_minor": 2
}
