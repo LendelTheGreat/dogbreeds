{
 "cells": [
  {
   "cell_type": "markdown",
   "metadata": {},
   "source": [
    "# Fully connected NN on bottleneck features\n",
    "Concatenate all preprocessed features from Inception, Xception, and InceptionResNet.\n",
    "\n",
    "Then train a fully connected NN with 1 hidden layer, last layer with softmax."
   ]
  },
  {
   "cell_type": "code",
   "execution_count": 1,
   "metadata": {},
   "outputs": [
    {
     "name": "stderr",
     "output_type": "stream",
     "text": [
      "Using TensorFlow backend.\n"
     ]
    }
   ],
   "source": [
    "%matplotlib inline\n",
    "import numpy as np\n",
    "import pandas as pd\n",
    "import matplotlib.pyplot as plt\n",
    "\n",
    "import _pickle as pickle\n",
    "from os import listdir\n",
    "from os.path import join, isfile\n",
    "\n",
    "import tensorflow as tf\n",
    "config = tf.ConfigProto()\n",
    "config.gpu_options.allow_growth = True\n",
    "session = tf.Session(config=config)\n",
    "from keras import backend as K\n",
    "K.set_session(session)\n",
    "\n",
    "from keras.utils import to_categorical\n",
    "from keras.callbacks import EarlyStopping\n",
    "from keras.models import Sequential\n",
    "from keras.layers import Activation, Dropout, Flatten, Dense\n",
    "from keras.regularizers import l1, l2, l1_l2"
   ]
  },
  {
   "cell_type": "code",
   "execution_count": 2,
   "metadata": {},
   "outputs": [
    {
     "name": "stdout",
     "output_type": "stream",
     "text": [
      "Number of all train images: 10222\n",
      "Train data has 120 classes.\n",
      "Number of all test images: 10357\n",
      "y_tr shape: (8185, 120)\n",
      "y_val shape: (2037, 120)\n"
     ]
    }
   ],
   "source": [
    "NUM_CLASSES = 120\n",
    "SEED = 1993\n",
    "np.random.seed(seed=SEED)\n",
    "data_dir = '../data'\n",
    "\n",
    "labels = pd.read_csv(join(data_dir, 'labels.csv'))\n",
    "print('Number of all train images: {}'.format(len(labels)))\n",
    "print(\"Train data has {} classes.\".format(len(labels.groupby('breed').count())))\n",
    "assert len(labels.groupby('breed').count()) == NUM_CLASSES, 'Number of classes in training set is not 120!'\n",
    "\n",
    "sample_submission = pd.read_csv(join(data_dir, 'sample_submission.csv'))\n",
    "print('Number of all test images: {}'.format(len(sample_submission)))\n",
    "\n",
    "# Split to train and validation sets\n",
    "l_val = labels.groupby('breed').apply(pd.DataFrame.sample, frac=0.2).reset_index(drop=True)\n",
    "l_tr = labels.loc[~labels['id'].isin(l_val['id'])]\n",
    "l_tr_index = {label:i for i,label in enumerate(np.unique(l_tr.breed))}\n",
    "l_tr_temp = [l_tr_index[label] for label in l_tr.breed]\n",
    "l_val_temp = [l_tr_index[label] for label in l_val.breed]\n",
    "y_tr = to_categorical(l_tr_temp ,num_classes=120)\n",
    "y_val = to_categorical(l_val_temp ,num_classes=120)\n",
    "print('y_tr shape: {}'.format(y_tr.shape))\n",
    "print('y_val shape: {}'.format(y_val.shape))"
   ]
  },
  {
   "cell_type": "code",
   "execution_count": 6,
   "metadata": {},
   "outputs": [
    {
     "name": "stdout",
     "output_type": "stream",
     "text": [
      "Loading from ../data//train//xs_bf_inception_v3\n",
      "xs_bf_inception shape: (10222, 2049) size: 20,944,878\n",
      "Loading from ../data//train//xs_bf_xception\n",
      "xs_bf_xception shape: (10222, 2049) size: 20,944,878\n",
      "Loading from ../data//train//xs_bf_irn\n",
      "xs_bf_irn shape: (10222, 1537) size: 15,711,214\n",
      "Concatenated features xs_bf shape: (10222, 5633) size: 57,580,526\n"
     ]
    }
   ],
   "source": [
    "filename = data_dir + '//train//xs_bf_inception_v3'\n",
    "print('Loading from {}'.format(filename))\n",
    "with open(filename, 'rb') as fp:\n",
    "    xs_bf_inception = pickle.load(fp)\n",
    "print('xs_bf_inception shape: {} size: {:,}'.format(xs_bf_inception.shape, xs_bf_inception.size))\n",
    "\n",
    "filename = data_dir + '//train//xs_bf_xception'\n",
    "print('Loading from {}'.format(filename))\n",
    "with open(filename, 'rb') as fp:\n",
    "    xs_bf_xception = pickle.load(fp)\n",
    "print('xs_bf_xception shape: {} size: {:,}'.format(xs_bf_xception.shape, xs_bf_xception.size))\n",
    "\n",
    "filename = data_dir + '//train//xs_bf_irn'\n",
    "print('Loading from {}'.format(filename))\n",
    "with open(filename, 'rb') as fp:\n",
    "    xs_bf_irn = pickle.load(fp)\n",
    "print('xs_bf_irn shape: {} size: {:,}'.format(xs_bf_irn.shape, xs_bf_irn.size))\n",
    "\n",
    "N_FEATURES = xs_bf_inception.shape[1] + xs_bf_xception.shape[1] + xs_bf_irn.shape[1] - 3\n",
    "\n",
    "xs_bf = pd.DataFrame(data=np.concatenate(\n",
    "    (xs_bf_inception.as_matrix(columns=xs_bf_inception.columns[0:]),\n",
    "     xs_bf_xception.as_matrix(columns=xs_bf_xception.columns[1:]),\n",
    "     xs_bf_irn.as_matrix(columns=xs_bf_irn.columns[1:])),\n",
    "     axis=1), columns=['id']+list(range(N_FEATURES)))\n",
    "print('Concatenated features xs_bf shape: {} size: {:,}'.format(xs_bf.shape, xs_bf.size))"
   ]
  },
  {
   "cell_type": "code",
   "execution_count": 5,
   "metadata": {},
   "outputs": [
    {
     "name": "stdout",
     "output_type": "stream",
     "text": [
      "Train bottleneck features shape: (8185, 5632) size: 46,097,920\n",
      "Validation bottleneck features shape: (2037, 5632) size: 11,472,384\n"
     ]
    }
   ],
   "source": [
    "# Split to train/val sets\n",
    "x_tr = np.zeros((len(l_tr), xs_bf.shape[1]-1), dtype='float32')\n",
    "for i, img_id in enumerate(l_tr['id']):\n",
    "    x_tr[i] = xs_bf[xs_bf.id == img_id].values[0][1:]\n",
    "print('Train bottleneck features shape: {} size: {:,}'.format(x_tr.shape, x_tr.size))\n",
    "\n",
    "x_val = np.zeros((len(l_val), xs_bf.shape[1]-1), dtype='float32')\n",
    "for i, img_id in enumerate(l_val['id']):\n",
    "    x_val[i] = xs_bf[xs_bf.id == img_id].values[0][1:]\n",
    "print('Validation bottleneck features shape: {} size: {:,}'.format(x_val.shape, x_val.size))"
   ]
  },
  {
   "cell_type": "code",
   "execution_count": 10,
   "metadata": {},
   "outputs": [],
   "source": [
    "# Setup model\n",
    "model = Sequential()\n",
    "\n",
    "model.add(Dense(200, input_shape=(N_FEATURES,), kernel_regularizer=l2(0.00001)))\n",
    "model.add(Activation('relu'))\n",
    "model.add(Dropout(0.5))\n",
    "    \n",
    "model.add(Dense(120, activation='softmax', kernel_regularizer=l2(0.0000001)))\n",
    "\n",
    "model.compile(loss='categorical_crossentropy',\n",
    "              optimizer='adam',\n",
    "              metrics=['accuracy'])"
   ]
  },
  {
   "cell_type": "code",
   "execution_count": 11,
   "metadata": {
    "scrolled": true
   },
   "outputs": [
    {
     "name": "stdout",
     "output_type": "stream",
     "text": [
      "Train on 8185 samples, validate on 2037 samples\n",
      "Epoch 1/50\n",
      "8185/8185 [==============================] - 1s 178us/step - loss: 4.2121 - acc: 0.1594 - val_loss: 2.6678 - val_acc: 0.7501\n",
      "Epoch 2/50\n",
      "8185/8185 [==============================] - 1s 84us/step - loss: 2.2545 - acc: 0.5840 - val_loss: 0.9988 - val_acc: 0.8753\n",
      "Epoch 3/50\n",
      "8185/8185 [==============================] - 1s 94us/step - loss: 1.0818 - acc: 0.7918 - val_loss: 0.4426 - val_acc: 0.9028\n",
      "Epoch 4/50\n",
      "8185/8185 [==============================] - 1s 82us/step - loss: 0.6432 - acc: 0.8487 - val_loss: 0.3289 - val_acc: 0.9141\n",
      "Epoch 5/50\n",
      "8185/8185 [==============================] - 1s 80us/step - loss: 0.4819 - acc: 0.8743 - val_loss: 0.3012 - val_acc: 0.9165\n",
      "Epoch 6/50\n",
      "8185/8185 [==============================] - 1s 76us/step - loss: 0.4113 - acc: 0.8922 - val_loss: 0.2835 - val_acc: 0.9195\n",
      "Epoch 7/50\n",
      "8185/8185 [==============================] - 1s 78us/step - loss: 0.3568 - acc: 0.9016 - val_loss: 0.2814 - val_acc: 0.9141\n",
      "Epoch 8/50\n",
      "8185/8185 [==============================] - 1s 80us/step - loss: 0.3243 - acc: 0.9102 - val_loss: 0.2752 - val_acc: 0.9180\n",
      "Epoch 9/50\n",
      "8185/8185 [==============================] - 1s 78us/step - loss: 0.3011 - acc: 0.9137 - val_loss: 0.2729 - val_acc: 0.9195\n",
      "Epoch 10/50\n",
      "8185/8185 [==============================] - 1s 78us/step - loss: 0.2821 - acc: 0.9221 - val_loss: 0.2759 - val_acc: 0.9170\n",
      "Epoch 11/50\n",
      "8185/8185 [==============================] - 1s 80us/step - loss: 0.2752 - acc: 0.9239 - val_loss: 0.2729 - val_acc: 0.9200\n",
      "Epoch 12/50\n",
      "8185/8185 [==============================] - 1s 78us/step - loss: 0.2581 - acc: 0.9243 - val_loss: 0.2726 - val_acc: 0.9185\n",
      "Epoch 13/50\n",
      "8185/8185 [==============================] - 1s 78us/step - loss: 0.2402 - acc: 0.9332 - val_loss: 0.2728 - val_acc: 0.9224\n",
      "Epoch 14/50\n",
      "8185/8185 [==============================] - 1s 80us/step - loss: 0.2316 - acc: 0.9319 - val_loss: 0.2720 - val_acc: 0.9195\n",
      "Epoch 15/50\n",
      "8185/8185 [==============================] - 1s 78us/step - loss: 0.2211 - acc: 0.9361 - val_loss: 0.2696 - val_acc: 0.9205\n",
      "Epoch 16/50\n",
      "8185/8185 [==============================] - 1s 78us/step - loss: 0.2062 - acc: 0.9411 - val_loss: 0.2753 - val_acc: 0.9180\n",
      "Epoch 17/50\n",
      "8185/8185 [==============================] - 1s 78us/step - loss: 0.2080 - acc: 0.9398 - val_loss: 0.2715 - val_acc: 0.9190\n",
      "Epoch 18/50\n",
      "8185/8185 [==============================] - 1s 78us/step - loss: 0.2057 - acc: 0.9425 - val_loss: 0.2722 - val_acc: 0.9175\n",
      "2037/2037 [==============================] - 0s 205us/step\n",
      "Test loss: 0.272169666909\n",
      "Test accuracy: 0.917525773284\n"
     ]
    }
   ],
   "source": [
    "# Train\n",
    "history = model.fit(x_tr, y_tr,\n",
    "              batch_size=1500,\n",
    "              epochs=50,\n",
    "              verbose=1,\n",
    "              validation_data=(x_val, y_val),\n",
    "              shuffle=True,\n",
    "              callbacks=[EarlyStopping(monitor='val_loss', patience=3)])\n",
    "\n",
    "scores = model.evaluate(x_val, y_val, verbose=1)\n",
    "print('Test loss:', scores[0])\n",
    "print('Test accuracy:', scores[1])"
   ]
  },
  {
   "cell_type": "code",
   "execution_count": 13,
   "metadata": {},
   "outputs": [
    {
     "data": {
      "image/png": "[encoded data removed]",
      "text/plain": [
       "<matplotlib.figure.Figure at 0x270862dd3c8>"
      ]
     },
     "metadata": {},
     "output_type": "display_data"
    },
    {
     "data": {
      "image/png": "[encoded data removed]",
      "text/plain": [
       "<matplotlib.figure.Figure at 0x2708632aef0>"
      ]
     },
     "metadata": {},
     "output_type": "display_data"
    }
   ],
   "source": [
    "# summarize history for accuracy\n",
    "plt.plot(history.history['acc'])\n",
    "plt.plot(history.history['val_acc'])\n",
    "plt.title('model accuracy')\n",
    "plt.ylabel('accuracy')\n",
    "plt.xlabel('epoch')\n",
    "plt.legend(['train', 'test'], loc='lower right')\n",
    "plt.show()\n",
    "# summarize history for loss\n",
    "plt.plot(history.history['loss'])\n",
    "plt.plot(history.history['val_loss'])\n",
    "plt.title('model loss')\n",
    "plt.ylabel('loss')\n",
    "plt.xlabel('epoch')\n",
    "plt.legend(['train', 'test'], loc='upper right')\n",
    "plt.show()"
   ]
  },
  {
   "cell_type": "code",
   "execution_count": 14,
   "metadata": {},
   "outputs": [
    {
     "name": "stdout",
     "output_type": "stream",
     "text": [
      "Loading from ../data//test//xs_bf_inception\n",
      "xs_bf_inception shape: (10357, 2049) size: 21,221,493\n",
      "Loading from ../data//test//xs_bf_xception\n",
      "xs_bf_xception shape: (10357, 2049) size: 21,221,493\n",
      "Loading from ../data//test//xs_bf_irn\n",
      "xs_bf_irn shape: (10357, 1537) size: 15,918,709\n",
      "Concatenated features xs_bf shape: (10357, 5633) size: 58,340,981\n"
     ]
    }
   ],
   "source": [
    "# Load test set data\n",
    "filename = data_dir + '//test//xs_bf_inception'\n",
    "print('Loading from {}'.format(filename))\n",
    "with open(filename, 'rb') as fp:\n",
    "    xs_bf_inception = pickle.load(fp)\n",
    "print('xs_bf_inception shape: {} size: {:,}'.format(xs_bf_inception.shape, xs_bf_inception.size))\n",
    "\n",
    "filename = data_dir + '//test//xs_bf_xception'\n",
    "print('Loading from {}'.format(filename))\n",
    "with open(filename, 'rb') as fp:\n",
    "    xs_bf_xception = pickle.load(fp)\n",
    "print('xs_bf_xception shape: {} size: {:,}'.format(xs_bf_xception.shape, xs_bf_xception.size))\n",
    "\n",
    "filename = data_dir + '//test//xs_bf_irn'\n",
    "print('Loading from {}'.format(filename))\n",
    "with open(filename, 'rb') as fp:\n",
    "    xs_bf_irn = pickle.load(fp)\n",
    "print('xs_bf_irn shape: {} size: {:,}'.format(xs_bf_irn.shape, xs_bf_irn.size))\n",
    "\n",
    "xs_test_bf = pd.DataFrame(data=np.concatenate(\n",
    "    (xs_bf_inception.as_matrix(columns=xs_bf_inception.columns[0:]),\n",
    "     xs_bf_xception.as_matrix(columns=xs_bf_xception.columns[1:]),\n",
    "     xs_bf_irn.as_matrix(columns=xs_bf_irn.columns[1:])\n",
    "    ), axis=1), columns=['id']+list(range(N_FEATURES)))\n",
    "print('Concatenated features xs_bf shape: {} size: {:,}'.format(xs_test_bf.shape, xs_test_bf.size))"
   ]
  },
  {
   "cell_type": "code",
   "execution_count": 17,
   "metadata": {},
   "outputs": [
    {
     "name": "stdout",
     "output_type": "stream",
     "text": [
      "10357/10357 [==============================] - 9s 904us/step\n",
      "Predicted ys_test shape: (10357, 120) size: 1,242,840\n"
     ]
    }
   ],
   "source": [
    "# Predict\n",
    "ys_test = model.predict(xs_test_bf.as_matrix(columns=xs_test_bf.columns[1:]), batch_size=512, verbose=1)\n",
    "print('Predicted ys_test shape: {} size: {:,}'.format(ys_test.shape, ys_test.size))"
   ]
  },
  {
   "cell_type": "code",
   "execution_count": 18,
   "metadata": {},
   "outputs": [],
   "source": [
    "# Save submission\n",
    "for i, breed in enumerate(sample_submission.columns[1:]):\n",
    "    sample_submission[breed] = ys_test[:, l_tr_index[breed]]\n",
    "    \n",
    "sample_submission.to_csv('..//submissions//sub_bottleneck_nn_inc_xc_irn_l2.csv', index=None)"
   ]
  },
  {
   "cell_type": "code",
   "execution_count": null,
   "metadata": {},
   "outputs": [],
   "source": []
  }
 ],
 "metadata": {
  "kernelspec": {
   "display_name": "Python 3",
   "language": "python",
   "name": "python3"
  },
  "language_info": {
   "codemirror_mode": {
    "name": "ipython",
    "version": 3
   },
   "file_extension": ".py",
   "mimetype": "text/x-python",
   "name": "python",
   "nbconvert_exporter": "python",
   "pygments_lexer": "ipython3",
   "version": "3.5.4"
  }
 },
 "nbformat": 4,
 "nbformat_minor": 2
}
