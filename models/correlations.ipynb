{
 "cells": [
  {
   "cell_type": "code",
   "execution_count": 1,
   "metadata": {},
   "outputs": [
    {
     "name": "stderr",
     "output_type": "stream",
     "text": [
      "Using TensorFlow backend.\n"
     ]
    }
   ],
   "source": [
    "%matplotlib inline\n",
    "import numpy as np\n",
    "import pandas as pd\n",
    "import matplotlib.pyplot as plt\n",
    "\n",
    "import _pickle as pickle\n",
    "from os.path import join\n",
    "\n",
    "import tensorflow as tf\n",
    "config = tf.ConfigProto()\n",
    "session = tf.Session(config=config)\n",
    "from keras import backend as K\n",
    "K.set_session(session)\n",
    "\n",
    "from keras.utils import to_categorical"
   ]
  },
  {
   "cell_type": "code",
   "execution_count": 2,
   "metadata": {},
   "outputs": [
    {
     "name": "stdout",
     "output_type": "stream",
     "text": [
      "l_tr shape: (8185, 2)\n",
      "l_val shape: (2037, 2)\n",
      "y_tr shape: (8185, 120)\n",
      "y_val shape: (2037, 120)\n"
     ]
    }
   ],
   "source": [
    "# Load labels and split to train/val\n",
    "NUM_CLASSES = 120\n",
    "np.random.seed(seed=2017)\n",
    "data_dir = '../data'\n",
    "\n",
    "labels = pd.read_csv(join(data_dir, 'labels.csv'))\n",
    "l_val = labels.groupby('breed').apply(pd.DataFrame.sample, frac=0.2).reset_index(drop=True)\n",
    "l_tr = labels.loc[~labels['id'].isin(l_val['id'])]\n",
    "print('l_tr shape: {}'.format(l_tr.shape))\n",
    "print('l_val shape: {}'.format(l_val.shape))\n",
    "\n",
    "assert NUM_CLASSES == len(l_tr.groupby('breed').count()), 'Incorrect number of classes in training set!'\n",
    "\n",
    "l_tr_index = {label:i for i,label in enumerate(np.unique(l_tr.breed))}\n",
    "l_tr_temp = [l_tr_index[label] for label in l_tr.breed]\n",
    "l_val_temp = [l_tr_index[label] for label in l_val.breed]\n",
    "y_tr = to_categorical(l_tr_temp ,num_classes=120)\n",
    "y_val = to_categorical(l_val_temp ,num_classes=120)\n",
    "\n",
    "print('y_tr shape: {}'.format(y_tr.shape))\n",
    "print('y_val shape: {}'.format(y_val.shape))"
   ]
  },
  {
   "cell_type": "code",
   "execution_count": 3,
   "metadata": {},
   "outputs": [
    {
     "name": "stdout",
     "output_type": "stream",
     "text": [
      "Loading from ../data//train//xs_bf_inception_v3\n",
      "xs_bf_inception shape: (10222, 2049) size: 20,944,878\n",
      "Loading from ../data//train//xs_bf_xception\n",
      "xs_bf_xception shape: (10222, 2049) size: 20,944,878\n",
      "Loading from ../data//train//xs_bf_vgg16\n",
      "xs_bf_vgg16 shape: (10222, 513) size: 5,243,886\n"
     ]
    }
   ],
   "source": [
    "filename = data_dir + '//train//xs_bf_inception_v3'\n",
    "print('Loading from {}'.format(filename))\n",
    "with open(filename, 'rb') as fp:\n",
    "    xs_bf_inception = pickle.load(fp)\n",
    "print('xs_bf_inception shape: {} size: {:,}'.format(xs_bf_inception.shape, xs_bf_inception.size))\n",
    "\n",
    "filename = data_dir + '//train//xs_bf_xception'\n",
    "print('Loading from {}'.format(filename))\n",
    "with open(filename, 'rb') as fp:\n",
    "    xs_bf_xception = pickle.load(fp)\n",
    "print('xs_bf_xception shape: {} size: {:,}'.format(xs_bf_xception.shape, xs_bf_xception.size))\n",
    "\n",
    "filename = data_dir + '//train//xs_bf_vgg16'\n",
    "print('Loading from {}'.format(filename))\n",
    "with open(filename, 'rb') as fp:\n",
    "    xs_bf_vgg16 = pickle.load(fp)\n",
    "print('xs_bf_vgg16 shape: {} size: {:,}'.format(xs_bf_vgg16.shape, xs_bf_vgg16.size))"
   ]
  },
  {
   "cell_type": "code",
   "execution_count": 4,
   "metadata": {},
   "outputs": [
    {
     "name": "stdout",
     "output_type": "stream",
     "text": [
      "Concatenated shape 4608 should be 4608 = 2048 + 2048 + 512\n",
      "correlation_matrix shape (4608, 4608)\n"
     ]
    }
   ],
   "source": [
    "xs = np.concatenate(\n",
    "        (xs_bf_inception.as_matrix(columns=xs_bf_inception.columns[1:]),\n",
    "         xs_bf_xception.as_matrix(columns=xs_bf_xception.columns[1:]),\n",
    "         xs_bf_vgg16.as_matrix(columns=xs_bf_vgg16.columns[1:])),\n",
    "    axis=1)\n",
    "\n",
    "print('Concatenated shape {} should be {} = {} + {} + {}'.format(\n",
    "    xs.shape[1],\n",
    "    xs_bf_inception.shape[1]-1 + xs_bf_xception.shape[1]-1 + xs_bf_vgg16.shape[1]-1,\n",
    "    xs_bf_inception.shape[1]-1,\n",
    "    xs_bf_xception.shape[1]-1,\n",
    "    xs_bf_vgg16.shape[1]-1))\n",
    "\n",
    "correlation_matrix = np.corrcoef(xs.T)\n",
    "print('correlation_matrix shape {}'.format(correlation_matrix.shape))"
   ]
  },
  {
   "cell_type": "code",
   "execution_count": 5,
   "metadata": {},
   "outputs": [
    {
     "name": "stdout",
     "output_type": "stream",
     "text": [
      "Correlation 0.9394352834738481 at [388][463]\n",
      "Correlation 0.9374163104213367 at [393][726]\n",
      "Correlation 0.926437519461309 at [536][615]\n",
      "Found 3 pairs of higly correlated bottleneck features\n"
     ]
    }
   ],
   "source": [
    "# Display very big correlations\n",
    "big_cors = []\n",
    "for i in range(correlation_matrix.shape[0]):\n",
    "    for j in range(i+1, correlation_matrix.shape[1]):\n",
    "        if abs(correlation_matrix[i][j]) >= 0.9:\n",
    "            print('Correlation {} at [{}][{}]'.format(correlation_matrix[i][j], i, j))\n",
    "            big_cors.append([correlation_matrix[i][j], i, j])\n",
    "\n",
    "print('Found {:.0f} pairs of higly correlated bottleneck features'.format(len(big_cors)))"
   ]
  },
  {
   "cell_type": "code",
   "execution_count": null,
   "metadata": {},
   "outputs": [],
   "source": []
  }
 ],
 "metadata": {
  "kernelspec": {
   "display_name": "Python 3",
   "language": "python",
   "name": "python3"
  },
  "language_info": {
   "codemirror_mode": {
    "name": "ipython",
    "version": 3
   },
   "file_extension": ".py",
   "mimetype": "text/x-python",
   "name": "python",
   "nbconvert_exporter": "python",
   "pygments_lexer": "ipython3",
   "version": "3.5.4"
  }
 },
 "nbformat": 4,
 "nbformat_minor": 2
}
